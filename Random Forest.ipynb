{
 "cells": [
  {
   "cell_type": "code",
   "execution_count": 1,
   "id": "31b9d3ee",
   "metadata": {
    "_cell_guid": "b1076dfc-b9ad-4769-8c92-a6c4dae69d19",
    "_uuid": "8f2839f25d086af736a60e9eeb907d3b93b6e0e5",
    "execution": {
     "iopub.execute_input": "2024-04-01T16:51:34.497279Z",
     "iopub.status.busy": "2024-04-01T16:51:34.496849Z",
     "iopub.status.idle": "2024-04-01T16:51:35.585508Z",
     "shell.execute_reply": "2024-04-01T16:51:35.584138Z"
    },
    "papermill": {
     "duration": 1.104435,
     "end_time": "2024-04-01T16:51:35.588629",
     "exception": false,
     "start_time": "2024-04-01T16:51:34.484194",
     "status": "completed"
    },
    "tags": []
   },
   "outputs": [
    {
     "name": "stdout",
     "output_type": "stream",
     "text": [
      "/kaggle/input/nba-games/players.csv\n",
      "/kaggle/input/nba-games/teams.csv\n",
      "/kaggle/input/nba-games/ranking.csv\n",
      "/kaggle/input/nba-games/games_details.csv\n",
      "/kaggle/input/nba-games/games.csv\n"
     ]
    }
   ],
   "source": [
    "# This Python 3 environment comes with many helpful analytics libraries installed\n",
    "# It is defined by the kaggle/python Docker image: https://github.com/kaggle/docker-python\n",
    "# For example, here's several helpful packages to load\n",
    "\n",
    "import numpy as np # linear algebra\n",
    "import pandas as pd # data processing, CSV file I/O (e.g. pd.read_csv)\n",
    "\n",
    "# Input data files are available in the read-only \"../input/\" directory\n",
    "# For example, running this (by clicking run or pressing Shift+Enter) will list all files under the input directory\n",
    "\n",
    "import os\n",
    "for dirname, _, filenames in os.walk('/kaggle/input'):\n",
    "    for filename in filenames:\n",
    "        print(os.path.join(dirname, filename))\n",
    "\n",
    "# You can write up to 20GB to the current directory (/kaggle/working/) that gets preserved as output when you create a version using \"Save & Run All\" \n",
    "# You can also write temporary files to /kaggle/temp/, but they won't be saved outside of the current session"
   ]
  },
  {
   "cell_type": "code",
   "execution_count": 2,
   "id": "f0b53da8",
   "metadata": {
    "execution": {
     "iopub.execute_input": "2024-04-01T16:51:35.613168Z",
     "iopub.status.busy": "2024-04-01T16:51:35.612519Z",
     "iopub.status.idle": "2024-04-01T16:51:35.617990Z",
     "shell.execute_reply": "2024-04-01T16:51:35.616704Z"
    },
    "papermill": {
     "duration": 0.02085,
     "end_time": "2024-04-01T16:51:35.620567",
     "exception": false,
     "start_time": "2024-04-01T16:51:35.599717",
     "status": "completed"
    },
    "tags": []
   },
   "outputs": [],
   "source": [
    "#import requests\n",
    "\n",
    "#jsonData = requests.get('https://data.nba.net/prod/v2/20200224/scoreboard.json').json()\n",
    "\n",
    "#for each in jsonData['games']:\n",
    "    #print ('%s @ %s' %(each['vTeam']['triCode'], each['hTeam']['triCode']))"
   ]
  },
  {
   "cell_type": "markdown",
   "id": "b7cfdf18",
   "metadata": {
    "papermill": {
     "duration": 0.010088,
     "end_time": "2024-04-01T16:51:35.641208",
     "exception": false,
     "start_time": "2024-04-01T16:51:35.631120",
     "status": "completed"
    },
    "tags": []
   },
   "source": [
    "# NBA Predictions\n",
    "\n",
    "[![Kaggle](https://kaggle.com/static/images/open-in-kaggle.svg)](https://kaggle.com/kernels/welcome?src=https://github.com/rjbeer/NBA-Analysis/blob/main/notebook09ea0e1819.ipynb)"
   ]
  },
  {
   "cell_type": "markdown",
   "id": "331f9728",
   "metadata": {
    "papermill": {
     "duration": 0.009903,
     "end_time": "2024-04-01T16:51:35.661480",
     "exception": false,
     "start_time": "2024-04-01T16:51:35.651577",
     "status": "completed"
    },
    "tags": []
   },
   "source": [
    "## Initial analysis of relevant data\n",
    "\n",
    "Before we begin to code our ML model we must first look into what data is not only relevant to what it is we are trying to accomplish but if the data is related to the desired outcome. In this particular case we can define our desired outcome as;\n",
    "\n",
    "    -Predict the outcome of NBA games\n",
    "\n",
    "Though vague it is important to have an understanding of the ultimate goal. With that in mind we must determine what is considered relevant to being able to make these predictions. For the purposes of this analysis we will look at what data appears to relate to winning a game to have a more concrete idea of what features to include in the model.\n",
    "\n",
    "First we will load the data into a pandas dataframes and take a look at the data, more specifically we will first look into the games.csv for our initial dive into the data. This is because the games.csv has final game data and we can begin with simple probing into the data itself. Later we will look into as much of the data as we can."
   ]
  },
  {
   "cell_type": "code",
   "execution_count": 3,
   "id": "95fcf309",
   "metadata": {
    "execution": {
     "iopub.execute_input": "2024-04-01T16:51:35.686013Z",
     "iopub.status.busy": "2024-04-01T16:51:35.685106Z",
     "iopub.status.idle": "2024-04-01T16:51:41.674045Z",
     "shell.execute_reply": "2024-04-01T16:51:41.672712Z"
    },
    "papermill": {
     "duration": 6.003838,
     "end_time": "2024-04-01T16:51:41.676621",
     "exception": false,
     "start_time": "2024-04-01T16:51:35.672783",
     "status": "completed"
    },
    "tags": []
   },
   "outputs": [
    {
     "name": "stderr",
     "output_type": "stream",
     "text": [
      "/tmp/ipykernel_18/3956019479.py:1: DtypeWarning: Columns (6) have mixed types. Specify dtype option on import or set low_memory=False.\n",
      "  gameData = pd.read_csv(\"/kaggle/input/nba-games/games_details.csv\")\n"
     ]
    },
    {
     "data": {
      "text/html": [
       "<div>\n",
       "<style scoped>\n",
       "    .dataframe tbody tr th:only-of-type {\n",
       "        vertical-align: middle;\n",
       "    }\n",
       "\n",
       "    .dataframe tbody tr th {\n",
       "        vertical-align: top;\n",
       "    }\n",
       "\n",
       "    .dataframe thead th {\n",
       "        text-align: right;\n",
       "    }\n",
       "</style>\n",
       "<table border=\"1\" class=\"dataframe\">\n",
       "  <thead>\n",
       "    <tr style=\"text-align: right;\">\n",
       "      <th></th>\n",
       "      <th>GAME_DATE_EST</th>\n",
       "      <th>GAME_ID</th>\n",
       "      <th>GAME_STATUS_TEXT</th>\n",
       "      <th>HOME_TEAM_ID</th>\n",
       "      <th>VISITOR_TEAM_ID</th>\n",
       "      <th>SEASON</th>\n",
       "      <th>TEAM_ID_home</th>\n",
       "      <th>PTS_home</th>\n",
       "      <th>FG_PCT_home</th>\n",
       "      <th>FT_PCT_home</th>\n",
       "      <th>...</th>\n",
       "      <th>AST_home</th>\n",
       "      <th>REB_home</th>\n",
       "      <th>TEAM_ID_away</th>\n",
       "      <th>PTS_away</th>\n",
       "      <th>FG_PCT_away</th>\n",
       "      <th>FT_PCT_away</th>\n",
       "      <th>FG3_PCT_away</th>\n",
       "      <th>AST_away</th>\n",
       "      <th>REB_away</th>\n",
       "      <th>HOME_TEAM_WINS</th>\n",
       "    </tr>\n",
       "  </thead>\n",
       "  <tbody>\n",
       "    <tr>\n",
       "      <th>0</th>\n",
       "      <td>2022-12-22</td>\n",
       "      <td>22200477</td>\n",
       "      <td>Final</td>\n",
       "      <td>1610612740</td>\n",
       "      <td>1610612759</td>\n",
       "      <td>2022</td>\n",
       "      <td>1610612740</td>\n",
       "      <td>126.0</td>\n",
       "      <td>0.484</td>\n",
       "      <td>0.926</td>\n",
       "      <td>...</td>\n",
       "      <td>25.0</td>\n",
       "      <td>46.0</td>\n",
       "      <td>1610612759</td>\n",
       "      <td>117.0</td>\n",
       "      <td>0.478</td>\n",
       "      <td>0.815</td>\n",
       "      <td>0.321</td>\n",
       "      <td>23.0</td>\n",
       "      <td>44.0</td>\n",
       "      <td>1</td>\n",
       "    </tr>\n",
       "    <tr>\n",
       "      <th>1</th>\n",
       "      <td>2022-12-22</td>\n",
       "      <td>22200478</td>\n",
       "      <td>Final</td>\n",
       "      <td>1610612762</td>\n",
       "      <td>1610612764</td>\n",
       "      <td>2022</td>\n",
       "      <td>1610612762</td>\n",
       "      <td>120.0</td>\n",
       "      <td>0.488</td>\n",
       "      <td>0.952</td>\n",
       "      <td>...</td>\n",
       "      <td>16.0</td>\n",
       "      <td>40.0</td>\n",
       "      <td>1610612764</td>\n",
       "      <td>112.0</td>\n",
       "      <td>0.561</td>\n",
       "      <td>0.765</td>\n",
       "      <td>0.333</td>\n",
       "      <td>20.0</td>\n",
       "      <td>37.0</td>\n",
       "      <td>1</td>\n",
       "    </tr>\n",
       "    <tr>\n",
       "      <th>2</th>\n",
       "      <td>2022-12-21</td>\n",
       "      <td>22200466</td>\n",
       "      <td>Final</td>\n",
       "      <td>1610612739</td>\n",
       "      <td>1610612749</td>\n",
       "      <td>2022</td>\n",
       "      <td>1610612739</td>\n",
       "      <td>114.0</td>\n",
       "      <td>0.482</td>\n",
       "      <td>0.786</td>\n",
       "      <td>...</td>\n",
       "      <td>22.0</td>\n",
       "      <td>37.0</td>\n",
       "      <td>1610612749</td>\n",
       "      <td>106.0</td>\n",
       "      <td>0.470</td>\n",
       "      <td>0.682</td>\n",
       "      <td>0.433</td>\n",
       "      <td>20.0</td>\n",
       "      <td>46.0</td>\n",
       "      <td>1</td>\n",
       "    </tr>\n",
       "    <tr>\n",
       "      <th>3</th>\n",
       "      <td>2022-12-21</td>\n",
       "      <td>22200467</td>\n",
       "      <td>Final</td>\n",
       "      <td>1610612755</td>\n",
       "      <td>1610612765</td>\n",
       "      <td>2022</td>\n",
       "      <td>1610612755</td>\n",
       "      <td>113.0</td>\n",
       "      <td>0.441</td>\n",
       "      <td>0.909</td>\n",
       "      <td>...</td>\n",
       "      <td>27.0</td>\n",
       "      <td>49.0</td>\n",
       "      <td>1610612765</td>\n",
       "      <td>93.0</td>\n",
       "      <td>0.392</td>\n",
       "      <td>0.735</td>\n",
       "      <td>0.261</td>\n",
       "      <td>15.0</td>\n",
       "      <td>46.0</td>\n",
       "      <td>1</td>\n",
       "    </tr>\n",
       "    <tr>\n",
       "      <th>4</th>\n",
       "      <td>2022-12-21</td>\n",
       "      <td>22200468</td>\n",
       "      <td>Final</td>\n",
       "      <td>1610612737</td>\n",
       "      <td>1610612741</td>\n",
       "      <td>2022</td>\n",
       "      <td>1610612737</td>\n",
       "      <td>108.0</td>\n",
       "      <td>0.429</td>\n",
       "      <td>1.000</td>\n",
       "      <td>...</td>\n",
       "      <td>22.0</td>\n",
       "      <td>47.0</td>\n",
       "      <td>1610612741</td>\n",
       "      <td>110.0</td>\n",
       "      <td>0.500</td>\n",
       "      <td>0.773</td>\n",
       "      <td>0.292</td>\n",
       "      <td>20.0</td>\n",
       "      <td>47.0</td>\n",
       "      <td>0</td>\n",
       "    </tr>\n",
       "  </tbody>\n",
       "</table>\n",
       "<p>5 rows × 21 columns</p>\n",
       "</div>"
      ],
      "text/plain": [
       "  GAME_DATE_EST   GAME_ID GAME_STATUS_TEXT  HOME_TEAM_ID  VISITOR_TEAM_ID  \\\n",
       "0    2022-12-22  22200477            Final    1610612740       1610612759   \n",
       "1    2022-12-22  22200478            Final    1610612762       1610612764   \n",
       "2    2022-12-21  22200466            Final    1610612739       1610612749   \n",
       "3    2022-12-21  22200467            Final    1610612755       1610612765   \n",
       "4    2022-12-21  22200468            Final    1610612737       1610612741   \n",
       "\n",
       "   SEASON  TEAM_ID_home  PTS_home  FG_PCT_home  FT_PCT_home  ...  AST_home  \\\n",
       "0    2022    1610612740     126.0        0.484        0.926  ...      25.0   \n",
       "1    2022    1610612762     120.0        0.488        0.952  ...      16.0   \n",
       "2    2022    1610612739     114.0        0.482        0.786  ...      22.0   \n",
       "3    2022    1610612755     113.0        0.441        0.909  ...      27.0   \n",
       "4    2022    1610612737     108.0        0.429        1.000  ...      22.0   \n",
       "\n",
       "   REB_home  TEAM_ID_away  PTS_away  FG_PCT_away  FT_PCT_away  FG3_PCT_away  \\\n",
       "0      46.0    1610612759     117.0        0.478        0.815         0.321   \n",
       "1      40.0    1610612764     112.0        0.561        0.765         0.333   \n",
       "2      37.0    1610612749     106.0        0.470        0.682         0.433   \n",
       "3      49.0    1610612765      93.0        0.392        0.735         0.261   \n",
       "4      47.0    1610612741     110.0        0.500        0.773         0.292   \n",
       "\n",
       "   AST_away  REB_away  HOME_TEAM_WINS  \n",
       "0      23.0      44.0               1  \n",
       "1      20.0      37.0               1  \n",
       "2      20.0      46.0               1  \n",
       "3      15.0      46.0               1  \n",
       "4      20.0      47.0               0  \n",
       "\n",
       "[5 rows x 21 columns]"
      ]
     },
     "execution_count": 3,
     "metadata": {},
     "output_type": "execute_result"
    }
   ],
   "source": [
    "gameData = pd.read_csv(\"/kaggle/input/nba-games/games_details.csv\")\n",
    "games = pd.read_csv(\"/kaggle/input/nba-games/games.csv\")\n",
    "players = pd.read_csv(\"/kaggle/input/nba-games/players.csv\")\n",
    "teams = pd.read_csv(\"/kaggle/input/nba-games/teams.csv\")\n",
    "rankings = pd.read_csv(\"/kaggle/input/nba-games/ranking.csv\")\n",
    "#initial dataframes for all .csv files\n",
    "#For now the only dataframe we will look into is games\n",
    "games.head()"
   ]
  },
  {
   "cell_type": "code",
   "execution_count": 4,
   "id": "2e1eca12",
   "metadata": {
    "execution": {
     "iopub.execute_input": "2024-04-01T16:51:41.700695Z",
     "iopub.status.busy": "2024-04-01T16:51:41.700185Z",
     "iopub.status.idle": "2024-04-01T16:51:41.708192Z",
     "shell.execute_reply": "2024-04-01T16:51:41.707054Z"
    },
    "papermill": {
     "duration": 0.022961,
     "end_time": "2024-04-01T16:51:41.710657",
     "exception": false,
     "start_time": "2024-04-01T16:51:41.687696",
     "status": "completed"
    },
    "tags": []
   },
   "outputs": [
    {
     "data": {
      "text/plain": [
       "(26651, 21)"
      ]
     },
     "execution_count": 4,
     "metadata": {},
     "output_type": "execute_result"
    }
   ],
   "source": [
    "games.shape"
   ]
  },
  {
   "cell_type": "markdown",
   "id": "85b571f8",
   "metadata": {
    "papermill": {
     "duration": 0.010564,
     "end_time": "2024-04-01T16:51:41.732354",
     "exception": false,
     "start_time": "2024-04-01T16:51:41.721790",
     "status": "completed"
    },
    "tags": []
   },
   "source": [
    "# Home Team advantage\n",
    "\n",
    "Generally the team who is playing the home game is considered to have the advantage. We will do a small dive into this and see how true this claim is by looking at the data."
   ]
  },
  {
   "cell_type": "code",
   "execution_count": 5,
   "id": "5d4551f6",
   "metadata": {
    "execution": {
     "iopub.execute_input": "2024-04-01T16:51:41.757249Z",
     "iopub.status.busy": "2024-04-01T16:51:41.756814Z",
     "iopub.status.idle": "2024-04-01T16:51:42.172122Z",
     "shell.execute_reply": "2024-04-01T16:51:42.170767Z"
    },
    "papermill": {
     "duration": 0.430594,
     "end_time": "2024-04-01T16:51:42.174933",
     "exception": false,
     "start_time": "2024-04-01T16:51:41.744339",
     "status": "completed"
    },
    "tags": []
   },
   "outputs": [
    {
     "name": "stderr",
     "output_type": "stream",
     "text": [
      "/tmp/ipykernel_18/934583140.py:4: FutureWarning: When grouping with a length-1 list-like, you will need to pass a length-1 tuple to get_group in a future version of pandas. Pass `(name,)` instead of `name` to silence this warning.\n",
      "  home_wins = home_team_group.get_group(1)\n",
      "/tmp/ipykernel_18/934583140.py:5: FutureWarning: When grouping with a length-1 list-like, you will need to pass a length-1 tuple to get_group in a future version of pandas. Pass `(name,)` instead of `name` to silence this warning.\n",
      "  home_loses = home_team_group.get_group(0)\n"
     ]
    },
    {
     "name": "stdout",
     "output_type": "stream",
     "text": [
      "Home team win percentage: 58.70% \n",
      "Away team win percentage: 41.30%\n"
     ]
    },
    {
     "data": {
      "image/png": "[encoded data removed]",
      "text/plain": [
       "<Figure size 640x480 with 1 Axes>"
      ]
     },
     "metadata": {},
     "output_type": "display_data"
    }
   ],
   "source": [
    "import matplotlib.pyplot as plt\n",
    "\n",
    "home_team_group = games.groupby([\"HOME_TEAM_WINS\"])\n",
    "home_wins = home_team_group.get_group(1)\n",
    "home_loses = home_team_group.get_group(0)\n",
    "\n",
    "home_team_wins = home_wins[\"HOME_TEAM_WINS\"].value_counts()\n",
    "away_team_wins = home_loses[\"HOME_TEAM_WINS\"].value_counts()\n",
    "\n",
    "plt.bar(0.5, home_team_wins, width = .75,color = '#0077b6',label = 'Home Team Wins')\n",
    "plt.bar(1.25, away_team_wins, width = .75,color = '#fb8500',label = 'Away Team Wins')\n",
    "\n",
    "plt.ylabel('Number of Wins')\n",
    "plt.xticks(color = 'w')\n",
    "plt.title('Home wins vs Away wins')\n",
    "plt.legend()\n",
    "\n",
    "percentage_for_home = games['HOME_TEAM_WINS'].value_counts()/len(games) * 100\n",
    "print(f'Home team win percentage: {percentage_for_home[1]:.2f}% \\nAway team win percentage: {percentage_for_home[0]:.2f}%')"
   ]
  },
  {
   "cell_type": "markdown",
   "id": "a760a848",
   "metadata": {
    "papermill": {
     "duration": 0.011295,
     "end_time": "2024-04-01T16:51:42.198062",
     "exception": false,
     "start_time": "2024-04-01T16:51:42.186767",
     "status": "completed"
    },
    "tags": []
   },
   "source": [
    "# Home Game Results\n",
    "\n",
    "The data shows that home teams will win 58.7% of the time while the away teams will win 41.3% of the time. This does show some kind of relation to winning a game and playing at home court. However, there are a couple of factors that are not taken into account;\n",
    "\n",
    "\n",
    "1) The data does not represent a single team\n",
    "\n",
    "2) The results do not tell us why this appears to be the case\n",
    "\n",
    "3) There is no information on what factors are in play that result in these cases\n",
    "\n",
    "\n",
    "Though there certainly could be some factors that play into these results it does show a potential data point for the ML model that we will implement at a later time. For now we can follow our current investigation via home team wins vs away team wins by looking into the differences between average point differences."
   ]
  },
  {
   "cell_type": "code",
   "execution_count": 6,
   "id": "6d26a452",
   "metadata": {
    "execution": {
     "iopub.execute_input": "2024-04-01T16:51:42.223804Z",
     "iopub.status.busy": "2024-04-01T16:51:42.223073Z",
     "iopub.status.idle": "2024-04-01T16:51:42.564992Z",
     "shell.execute_reply": "2024-04-01T16:51:42.563905Z"
    },
    "papermill": {
     "duration": 0.358112,
     "end_time": "2024-04-01T16:51:42.567809",
     "exception": false,
     "start_time": "2024-04-01T16:51:42.209697",
     "status": "completed"
    },
    "tags": []
   },
   "outputs": [
    {
     "name": "stdout",
     "output_type": "stream",
     "text": [
      "(15645, 21)\n"
     ]
    },
    {
     "data": {
      "text/plain": [
       "<matplotlib.legend.Legend at 0x7c99af064af0>"
      ]
     },
     "execution_count": 6,
     "metadata": {},
     "output_type": "execute_result"
    },
    {
     "data": {
      "image/png": "[encoded data removed]",
      "text/plain": [
       "<Figure size 640x480 with 1 Axes>"
      ]
     },
     "metadata": {},
     "output_type": "display_data"
    }
   ],
   "source": [
    "home_pts = home_wins[\"PTS_home\"].mean()\n",
    "away_pts = home_loses[\"PTS_away\"].mean()\n",
    "\n",
    "print(home_wins.shape)\n",
    "\n",
    "plt.bar(.25, home_pts, width = 0.01,color = '#0077b6',label = 'Home Team Wins')\n",
    "plt.bar(.26, away_pts, width = 0.01,color = '#fb8500',label = 'Away Team Wins')\n",
    "\n",
    "plt.ylabel('Mean points scored')\n",
    "plt.xticks(color = 'w')\n",
    "plt.title('Home points vs Away points')\n",
    "plt.legend()"
   ]
  },
  {
   "cell_type": "markdown",
   "id": "a4b8add3",
   "metadata": {
    "papermill": {
     "duration": 0.011887,
     "end_time": "2024-04-01T16:51:42.592081",
     "exception": false,
     "start_time": "2024-04-01T16:51:42.580194",
     "status": "completed"
    },
    "tags": []
   },
   "source": [
    "# Mean points scored\n",
    "\n",
    "Though slight we can see that home teams every so slightly score more points on average. This data is most likely not usable for the ML model, not because it does not give insight, but because the difference between the two is not informative enough of what is occuring. Instead we should try and find the average score of individual teams and use this data as it would be more accurate to an individual teams standing. That having been said though only slight this data does match to some extent what we are looking for, though once again, there are issues with this as well.\n",
    "\n",
    "\n",
    "# Recomendation\n",
    "\n",
    "Though there is still a great deal of information to be gathered from the dataset I think this is a good place to start working on a simple ML model that will take in the team names and make a prediction based on number of games won alone, then work in new features from there. This is also a good place to work on building Elo rankings for simple predictions that do not involve ML which can take a considerable amount of time to make. This will also have the effect of potentially including the liklihood of winning a home game as well.\n",
    "\n",
    "For now we can start sorting and looking into the relevant data."
   ]
  },
  {
   "cell_type": "code",
   "execution_count": 7,
   "id": "01ed87ea",
   "metadata": {
    "execution": {
     "iopub.execute_input": "2024-04-01T16:51:42.619430Z",
     "iopub.status.busy": "2024-04-01T16:51:42.619009Z",
     "iopub.status.idle": "2024-04-01T16:51:42.670313Z",
     "shell.execute_reply": "2024-04-01T16:51:42.668983Z"
    },
    "papermill": {
     "duration": 0.068491,
     "end_time": "2024-04-01T16:51:42.673017",
     "exception": false,
     "start_time": "2024-04-01T16:51:42.604526",
     "status": "completed"
    },
    "tags": []
   },
   "outputs": [
    {
     "data": {
      "text/plain": [
       "True"
      ]
     },
     "execution_count": 7,
     "metadata": {},
     "output_type": "execute_result"
    }
   ],
   "source": [
    "games = games.sort_values(by='GAME_DATE_EST').reset_index(drop = True)\n",
    "#sort the array by date in ascending order\n",
    "games.isnull().values.any()\n",
    "#check for any null/NaN/NaT values in the dataframe"
   ]
  },
  {
   "cell_type": "markdown",
   "id": "7ace0bd5",
   "metadata": {
    "papermill": {
     "duration": 0.012192,
     "end_time": "2024-04-01T16:51:42.697775",
     "exception": false,
     "start_time": "2024-04-01T16:51:42.685583",
     "status": "completed"
    },
    "tags": []
   },
   "source": [
    "As shown above we do have null values which are not useful to us. Therefore we will drop them."
   ]
  },
  {
   "cell_type": "code",
   "execution_count": 8,
   "id": "375900cf",
   "metadata": {
    "execution": {
     "iopub.execute_input": "2024-04-01T16:51:42.725003Z",
     "iopub.status.busy": "2024-04-01T16:51:42.724303Z",
     "iopub.status.idle": "2024-04-01T16:51:42.776201Z",
     "shell.execute_reply": "2024-04-01T16:51:42.774955Z"
    },
    "papermill": {
     "duration": 0.068465,
     "end_time": "2024-04-01T16:51:42.778812",
     "exception": false,
     "start_time": "2024-04-01T16:51:42.710347",
     "status": "completed"
    },
    "tags": []
   },
   "outputs": [
    {
     "name": "stdout",
     "output_type": "stream",
     "text": [
      "False\n",
      "(26552, 21)\n"
     ]
    },
    {
     "data": {
      "text/html": [
       "<div>\n",
       "<style scoped>\n",
       "    .dataframe tbody tr th:only-of-type {\n",
       "        vertical-align: middle;\n",
       "    }\n",
       "\n",
       "    .dataframe tbody tr th {\n",
       "        vertical-align: top;\n",
       "    }\n",
       "\n",
       "    .dataframe thead th {\n",
       "        text-align: right;\n",
       "    }\n",
       "</style>\n",
       "<table border=\"1\" class=\"dataframe\">\n",
       "  <thead>\n",
       "    <tr style=\"text-align: right;\">\n",
       "      <th></th>\n",
       "      <th>GAME_DATE_EST</th>\n",
       "      <th>GAME_ID</th>\n",
       "      <th>GAME_STATUS_TEXT</th>\n",
       "      <th>HOME_TEAM_ID</th>\n",
       "      <th>VISITOR_TEAM_ID</th>\n",
       "      <th>SEASON</th>\n",
       "      <th>TEAM_ID_home</th>\n",
       "      <th>PTS_home</th>\n",
       "      <th>FG_PCT_home</th>\n",
       "      <th>FT_PCT_home</th>\n",
       "      <th>...</th>\n",
       "      <th>AST_home</th>\n",
       "      <th>REB_home</th>\n",
       "      <th>TEAM_ID_away</th>\n",
       "      <th>PTS_away</th>\n",
       "      <th>FG_PCT_away</th>\n",
       "      <th>FT_PCT_away</th>\n",
       "      <th>FG3_PCT_away</th>\n",
       "      <th>AST_away</th>\n",
       "      <th>REB_away</th>\n",
       "      <th>HOME_TEAM_WINS</th>\n",
       "    </tr>\n",
       "  </thead>\n",
       "  <tbody>\n",
       "    <tr>\n",
       "      <th>0</th>\n",
       "      <td>2003-10-05</td>\n",
       "      <td>10300001</td>\n",
       "      <td>Final</td>\n",
       "      <td>1610612762</td>\n",
       "      <td>1610612742</td>\n",
       "      <td>2003</td>\n",
       "      <td>1610612762</td>\n",
       "      <td>90.0</td>\n",
       "      <td>0.457</td>\n",
       "      <td>0.735</td>\n",
       "      <td>...</td>\n",
       "      <td>23.0</td>\n",
       "      <td>41.0</td>\n",
       "      <td>1610612742</td>\n",
       "      <td>85.0</td>\n",
       "      <td>0.447</td>\n",
       "      <td>0.500</td>\n",
       "      <td>0.250</td>\n",
       "      <td>20.0</td>\n",
       "      <td>38.0</td>\n",
       "      <td>1</td>\n",
       "    </tr>\n",
       "    <tr>\n",
       "      <th>1</th>\n",
       "      <td>2003-10-06</td>\n",
       "      <td>10300002</td>\n",
       "      <td>Final</td>\n",
       "      <td>1610612763</td>\n",
       "      <td>1610612749</td>\n",
       "      <td>2003</td>\n",
       "      <td>1610612763</td>\n",
       "      <td>105.0</td>\n",
       "      <td>0.494</td>\n",
       "      <td>0.618</td>\n",
       "      <td>...</td>\n",
       "      <td>25.0</td>\n",
       "      <td>48.0</td>\n",
       "      <td>1610612749</td>\n",
       "      <td>94.0</td>\n",
       "      <td>0.427</td>\n",
       "      <td>0.700</td>\n",
       "      <td>0.154</td>\n",
       "      <td>20.0</td>\n",
       "      <td>43.0</td>\n",
       "      <td>1</td>\n",
       "    </tr>\n",
       "    <tr>\n",
       "      <th>2</th>\n",
       "      <td>2003-10-07</td>\n",
       "      <td>10300010</td>\n",
       "      <td>Final</td>\n",
       "      <td>1610612764</td>\n",
       "      <td>1610612752</td>\n",
       "      <td>2003</td>\n",
       "      <td>1610612764</td>\n",
       "      <td>104.0</td>\n",
       "      <td>0.506</td>\n",
       "      <td>0.677</td>\n",
       "      <td>...</td>\n",
       "      <td>26.0</td>\n",
       "      <td>45.0</td>\n",
       "      <td>1610612752</td>\n",
       "      <td>86.0</td>\n",
       "      <td>0.380</td>\n",
       "      <td>0.852</td>\n",
       "      <td>0.188</td>\n",
       "      <td>19.0</td>\n",
       "      <td>37.0</td>\n",
       "      <td>1</td>\n",
       "    </tr>\n",
       "    <tr>\n",
       "      <th>3</th>\n",
       "      <td>2003-10-07</td>\n",
       "      <td>10300009</td>\n",
       "      <td>Final</td>\n",
       "      <td>1610612758</td>\n",
       "      <td>1610612746</td>\n",
       "      <td>2003</td>\n",
       "      <td>1610612758</td>\n",
       "      <td>101.0</td>\n",
       "      <td>0.467</td>\n",
       "      <td>0.871</td>\n",
       "      <td>...</td>\n",
       "      <td>19.0</td>\n",
       "      <td>39.0</td>\n",
       "      <td>1610612746</td>\n",
       "      <td>82.0</td>\n",
       "      <td>0.368</td>\n",
       "      <td>0.609</td>\n",
       "      <td>0.364</td>\n",
       "      <td>13.0</td>\n",
       "      <td>50.0</td>\n",
       "      <td>1</td>\n",
       "    </tr>\n",
       "    <tr>\n",
       "      <th>4</th>\n",
       "      <td>2003-10-07</td>\n",
       "      <td>10300005</td>\n",
       "      <td>Final</td>\n",
       "      <td>1610612757</td>\n",
       "      <td>1610612745</td>\n",
       "      <td>2003</td>\n",
       "      <td>1610612757</td>\n",
       "      <td>104.0</td>\n",
       "      <td>0.527</td>\n",
       "      <td>0.657</td>\n",
       "      <td>...</td>\n",
       "      <td>22.0</td>\n",
       "      <td>33.0</td>\n",
       "      <td>1610612745</td>\n",
       "      <td>80.0</td>\n",
       "      <td>0.470</td>\n",
       "      <td>0.667</td>\n",
       "      <td>0.333</td>\n",
       "      <td>10.0</td>\n",
       "      <td>37.0</td>\n",
       "      <td>1</td>\n",
       "    </tr>\n",
       "  </tbody>\n",
       "</table>\n",
       "<p>5 rows × 21 columns</p>\n",
       "</div>"
      ],
      "text/plain": [
       "  GAME_DATE_EST   GAME_ID GAME_STATUS_TEXT  HOME_TEAM_ID  VISITOR_TEAM_ID  \\\n",
       "0    2003-10-05  10300001            Final    1610612762       1610612742   \n",
       "1    2003-10-06  10300002            Final    1610612763       1610612749   \n",
       "2    2003-10-07  10300010            Final    1610612764       1610612752   \n",
       "3    2003-10-07  10300009            Final    1610612758       1610612746   \n",
       "4    2003-10-07  10300005            Final    1610612757       1610612745   \n",
       "\n",
       "   SEASON  TEAM_ID_home  PTS_home  FG_PCT_home  FT_PCT_home  ...  AST_home  \\\n",
       "0    2003    1610612762      90.0        0.457        0.735  ...      23.0   \n",
       "1    2003    1610612763     105.0        0.494        0.618  ...      25.0   \n",
       "2    2003    1610612764     104.0        0.506        0.677  ...      26.0   \n",
       "3    2003    1610612758     101.0        0.467        0.871  ...      19.0   \n",
       "4    2003    1610612757     104.0        0.527        0.657  ...      22.0   \n",
       "\n",
       "   REB_home  TEAM_ID_away  PTS_away  FG_PCT_away  FT_PCT_away  FG3_PCT_away  \\\n",
       "0      41.0    1610612742      85.0        0.447        0.500         0.250   \n",
       "1      48.0    1610612749      94.0        0.427        0.700         0.154   \n",
       "2      45.0    1610612752      86.0        0.380        0.852         0.188   \n",
       "3      39.0    1610612746      82.0        0.368        0.609         0.364   \n",
       "4      33.0    1610612745      80.0        0.470        0.667         0.333   \n",
       "\n",
       "   AST_away  REB_away  HOME_TEAM_WINS  \n",
       "0      20.0      38.0               1  \n",
       "1      20.0      43.0               1  \n",
       "2      19.0      37.0               1  \n",
       "3      13.0      50.0               1  \n",
       "4      10.0      37.0               1  \n",
       "\n",
       "[5 rows x 21 columns]"
      ]
     },
     "execution_count": 8,
     "metadata": {},
     "output_type": "execute_result"
    }
   ],
   "source": [
    "games = games.dropna()\n",
    "#drop all null/NaN/Nat values from the dataframe\n",
    "print(games.isnull().values.any())\n",
    "print(games.shape)\n",
    "#print the results to make sure we dropped the desired values\n",
    "games.head()\n",
    "#check the first few entries of the newly arranged dataframe"
   ]
  },
  {
   "cell_type": "markdown",
   "id": "613e2a05",
   "metadata": {
    "papermill": {
     "duration": 0.012416,
     "end_time": "2024-04-01T16:51:42.804092",
     "exception": false,
     "start_time": "2024-04-01T16:51:42.791676",
     "status": "completed"
    },
    "tags": []
   },
   "source": [
    "Now that we have no NaN values in our dataset we can begin the process of determining the average points scored for all teams. This will involve a little data manipulation on our end, and we will need to create new data frames that are copies of the originals to preserve the integrity of the original files we will be using in the instance that we need that preserved data later on."
   ]
  },
  {
   "cell_type": "code",
   "execution_count": 9,
   "id": "1a2fcbe5",
   "metadata": {
    "execution": {
     "iopub.execute_input": "2024-04-01T16:51:42.831775Z",
     "iopub.status.busy": "2024-04-01T16:51:42.831269Z",
     "iopub.status.idle": "2024-04-01T16:51:42.864983Z",
     "shell.execute_reply": "2024-04-01T16:51:42.863882Z"
    },
    "papermill": {
     "duration": 0.051168,
     "end_time": "2024-04-01T16:51:42.868017",
     "exception": false,
     "start_time": "2024-04-01T16:51:42.816849",
     "status": "completed"
    },
    "tags": []
   },
   "outputs": [],
   "source": [
    "# We have two columns to replace, there are 'HOME_TEAM_ID' and 'VISITOR_TEAM_ID'\n",
    "\n",
    "teams = teams[['TEAM_ID', 'NICKNAME']]\n",
    "\n",
    "# replace 'HOME_TEAM_ID' with names in df_names\n",
    "home_names = teams.copy() # copy the names data\n",
    "home_names.columns = ['HOME_TEAM_ID', 'NICKNAME'] # change the column names before merging\n",
    "# merge names according to df on \"ID\"\n",
    "result_1 = pd.merge(games['HOME_TEAM_ID'], home_names, how =\"left\", on=\"HOME_TEAM_ID\")  \n",
    "games['HOME_TEAM_ID'] = result_1['NICKNAME']\n",
    "\n",
    "# replace 'VISITOR_TEAM_ID' with names in df_names\n",
    "visitor_names = teams.copy() # copy the names data\n",
    "visitor_names.columns = ['VISITOR_TEAM_ID', 'NICKNAME'] # change the column names before merging\n",
    "# merge names according to df on \"ID\"\n",
    "result_2 = pd.merge(games['VISITOR_TEAM_ID'], visitor_names, how = \"left\", on=\"VISITOR_TEAM_ID\")\n",
    "games['VISITOR_TEAM_ID'] = result_2['NICKNAME']"
   ]
  },
  {
   "cell_type": "code",
   "execution_count": 10,
   "id": "e405e956",
   "metadata": {
    "execution": {
     "iopub.execute_input": "2024-04-01T16:51:42.895886Z",
     "iopub.status.busy": "2024-04-01T16:51:42.895420Z",
     "iopub.status.idle": "2024-04-01T16:51:42.927099Z",
     "shell.execute_reply": "2024-04-01T16:51:42.926250Z"
    },
    "papermill": {
     "duration": 0.048463,
     "end_time": "2024-04-01T16:51:42.929567",
     "exception": false,
     "start_time": "2024-04-01T16:51:42.881104",
     "status": "completed"
    },
    "tags": []
   },
   "outputs": [
    {
     "data": {
      "text/html": [
       "<div>\n",
       "<style scoped>\n",
       "    .dataframe tbody tr th:only-of-type {\n",
       "        vertical-align: middle;\n",
       "    }\n",
       "\n",
       "    .dataframe tbody tr th {\n",
       "        vertical-align: top;\n",
       "    }\n",
       "\n",
       "    .dataframe thead th {\n",
       "        text-align: right;\n",
       "    }\n",
       "</style>\n",
       "<table border=\"1\" class=\"dataframe\">\n",
       "  <thead>\n",
       "    <tr style=\"text-align: right;\">\n",
       "      <th></th>\n",
       "      <th>GAME_DATE_EST</th>\n",
       "      <th>GAME_ID</th>\n",
       "      <th>GAME_STATUS_TEXT</th>\n",
       "      <th>HOME_TEAM_ID</th>\n",
       "      <th>VISITOR_TEAM_ID</th>\n",
       "      <th>SEASON</th>\n",
       "      <th>TEAM_ID_home</th>\n",
       "      <th>PTS_home</th>\n",
       "      <th>FG_PCT_home</th>\n",
       "      <th>FT_PCT_home</th>\n",
       "      <th>...</th>\n",
       "      <th>AST_home</th>\n",
       "      <th>REB_home</th>\n",
       "      <th>TEAM_ID_away</th>\n",
       "      <th>PTS_away</th>\n",
       "      <th>FG_PCT_away</th>\n",
       "      <th>FT_PCT_away</th>\n",
       "      <th>FG3_PCT_away</th>\n",
       "      <th>AST_away</th>\n",
       "      <th>REB_away</th>\n",
       "      <th>HOME_TEAM_WINS</th>\n",
       "    </tr>\n",
       "  </thead>\n",
       "  <tbody>\n",
       "    <tr>\n",
       "      <th>0</th>\n",
       "      <td>2003-10-05</td>\n",
       "      <td>10300001</td>\n",
       "      <td>Final</td>\n",
       "      <td>Jazz</td>\n",
       "      <td>Mavericks</td>\n",
       "      <td>2003</td>\n",
       "      <td>1610612762</td>\n",
       "      <td>90.0</td>\n",
       "      <td>0.457</td>\n",
       "      <td>0.735</td>\n",
       "      <td>...</td>\n",
       "      <td>23.0</td>\n",
       "      <td>41.0</td>\n",
       "      <td>1610612742</td>\n",
       "      <td>85.0</td>\n",
       "      <td>0.447</td>\n",
       "      <td>0.500</td>\n",
       "      <td>0.250</td>\n",
       "      <td>20.0</td>\n",
       "      <td>38.0</td>\n",
       "      <td>1</td>\n",
       "    </tr>\n",
       "    <tr>\n",
       "      <th>1</th>\n",
       "      <td>2003-10-06</td>\n",
       "      <td>10300002</td>\n",
       "      <td>Final</td>\n",
       "      <td>Grizzlies</td>\n",
       "      <td>Bucks</td>\n",
       "      <td>2003</td>\n",
       "      <td>1610612763</td>\n",
       "      <td>105.0</td>\n",
       "      <td>0.494</td>\n",
       "      <td>0.618</td>\n",
       "      <td>...</td>\n",
       "      <td>25.0</td>\n",
       "      <td>48.0</td>\n",
       "      <td>1610612749</td>\n",
       "      <td>94.0</td>\n",
       "      <td>0.427</td>\n",
       "      <td>0.700</td>\n",
       "      <td>0.154</td>\n",
       "      <td>20.0</td>\n",
       "      <td>43.0</td>\n",
       "      <td>1</td>\n",
       "    </tr>\n",
       "    <tr>\n",
       "      <th>2</th>\n",
       "      <td>2003-10-07</td>\n",
       "      <td>10300010</td>\n",
       "      <td>Final</td>\n",
       "      <td>Wizards</td>\n",
       "      <td>Knicks</td>\n",
       "      <td>2003</td>\n",
       "      <td>1610612764</td>\n",
       "      <td>104.0</td>\n",
       "      <td>0.506</td>\n",
       "      <td>0.677</td>\n",
       "      <td>...</td>\n",
       "      <td>26.0</td>\n",
       "      <td>45.0</td>\n",
       "      <td>1610612752</td>\n",
       "      <td>86.0</td>\n",
       "      <td>0.380</td>\n",
       "      <td>0.852</td>\n",
       "      <td>0.188</td>\n",
       "      <td>19.0</td>\n",
       "      <td>37.0</td>\n",
       "      <td>1</td>\n",
       "    </tr>\n",
       "    <tr>\n",
       "      <th>3</th>\n",
       "      <td>2003-10-07</td>\n",
       "      <td>10300009</td>\n",
       "      <td>Final</td>\n",
       "      <td>Kings</td>\n",
       "      <td>Clippers</td>\n",
       "      <td>2003</td>\n",
       "      <td>1610612758</td>\n",
       "      <td>101.0</td>\n",
       "      <td>0.467</td>\n",
       "      <td>0.871</td>\n",
       "      <td>...</td>\n",
       "      <td>19.0</td>\n",
       "      <td>39.0</td>\n",
       "      <td>1610612746</td>\n",
       "      <td>82.0</td>\n",
       "      <td>0.368</td>\n",
       "      <td>0.609</td>\n",
       "      <td>0.364</td>\n",
       "      <td>13.0</td>\n",
       "      <td>50.0</td>\n",
       "      <td>1</td>\n",
       "    </tr>\n",
       "    <tr>\n",
       "      <th>4</th>\n",
       "      <td>2003-10-07</td>\n",
       "      <td>10300005</td>\n",
       "      <td>Final</td>\n",
       "      <td>Trail Blazers</td>\n",
       "      <td>Rockets</td>\n",
       "      <td>2003</td>\n",
       "      <td>1610612757</td>\n",
       "      <td>104.0</td>\n",
       "      <td>0.527</td>\n",
       "      <td>0.657</td>\n",
       "      <td>...</td>\n",
       "      <td>22.0</td>\n",
       "      <td>33.0</td>\n",
       "      <td>1610612745</td>\n",
       "      <td>80.0</td>\n",
       "      <td>0.470</td>\n",
       "      <td>0.667</td>\n",
       "      <td>0.333</td>\n",
       "      <td>10.0</td>\n",
       "      <td>37.0</td>\n",
       "      <td>1</td>\n",
       "    </tr>\n",
       "  </tbody>\n",
       "</table>\n",
       "<p>5 rows × 21 columns</p>\n",
       "</div>"
      ],
      "text/plain": [
       "  GAME_DATE_EST   GAME_ID GAME_STATUS_TEXT   HOME_TEAM_ID VISITOR_TEAM_ID  \\\n",
       "0    2003-10-05  10300001            Final           Jazz       Mavericks   \n",
       "1    2003-10-06  10300002            Final      Grizzlies           Bucks   \n",
       "2    2003-10-07  10300010            Final        Wizards          Knicks   \n",
       "3    2003-10-07  10300009            Final          Kings        Clippers   \n",
       "4    2003-10-07  10300005            Final  Trail Blazers         Rockets   \n",
       "\n",
       "   SEASON  TEAM_ID_home  PTS_home  FG_PCT_home  FT_PCT_home  ...  AST_home  \\\n",
       "0    2003    1610612762      90.0        0.457        0.735  ...      23.0   \n",
       "1    2003    1610612763     105.0        0.494        0.618  ...      25.0   \n",
       "2    2003    1610612764     104.0        0.506        0.677  ...      26.0   \n",
       "3    2003    1610612758     101.0        0.467        0.871  ...      19.0   \n",
       "4    2003    1610612757     104.0        0.527        0.657  ...      22.0   \n",
       "\n",
       "   REB_home  TEAM_ID_away  PTS_away  FG_PCT_away  FT_PCT_away  FG3_PCT_away  \\\n",
       "0      41.0    1610612742      85.0        0.447        0.500         0.250   \n",
       "1      48.0    1610612749      94.0        0.427        0.700         0.154   \n",
       "2      45.0    1610612752      86.0        0.380        0.852         0.188   \n",
       "3      39.0    1610612746      82.0        0.368        0.609         0.364   \n",
       "4      33.0    1610612745      80.0        0.470        0.667         0.333   \n",
       "\n",
       "   AST_away  REB_away  HOME_TEAM_WINS  \n",
       "0      20.0      38.0               1  \n",
       "1      20.0      43.0               1  \n",
       "2      19.0      37.0               1  \n",
       "3      13.0      50.0               1  \n",
       "4      10.0      37.0               1  \n",
       "\n",
       "[5 rows x 21 columns]"
      ]
     },
     "execution_count": 10,
     "metadata": {},
     "output_type": "execute_result"
    }
   ],
   "source": [
    "games.head()"
   ]
  },
  {
   "cell_type": "markdown",
   "id": "4ab723fa",
   "metadata": {
    "papermill": {
     "duration": 0.013085,
     "end_time": "2024-04-01T16:51:42.956239",
     "exception": false,
     "start_time": "2024-04-01T16:51:42.943154",
     "status": "completed"
    },
    "tags": []
   },
   "source": [
    "We have successfully changed the HOME_TEAM_ID and VISITOR_TEAM_ID collumns to represent the names of the teams in a more easily understandable way, more specificially we replaced the team id numbers and switched them with the actual team names so we know what teams we are working with.\n",
    "\n",
    "Next we will create an increadibly basic ML model to make predictions with. This will not be accurate or representative of anything, and the predictions will likely be flawed and useless. However, for the purposes of creating an output file that can be grabbed by the website it will work for our purposes."
   ]
  },
  {
   "cell_type": "code",
   "execution_count": 11,
   "id": "ae447a26",
   "metadata": {
    "execution": {
     "iopub.execute_input": "2024-04-01T16:51:42.985855Z",
     "iopub.status.busy": "2024-04-01T16:51:42.984572Z",
     "iopub.status.idle": "2024-04-01T16:51:43.004818Z",
     "shell.execute_reply": "2024-04-01T16:51:43.003503Z"
    },
    "papermill": {
     "duration": 0.038082,
     "end_time": "2024-04-01T16:51:43.007815",
     "exception": false,
     "start_time": "2024-04-01T16:51:42.969733",
     "status": "completed"
    },
    "tags": []
   },
   "outputs": [],
   "source": [
    "# we want to predict games after the 2020-2021 season so we will drop these data from our dataframe\n",
    "# later we will grab use that dropped data for making predictions on.\n",
    "\n",
    "games = games.loc[games['GAME_DATE_EST'] < '2020-08-01'].reset_index(drop=True)"
   ]
  },
  {
   "cell_type": "code",
   "execution_count": 12,
   "id": "6b0904c8",
   "metadata": {
    "execution": {
     "iopub.execute_input": "2024-04-01T16:51:43.037609Z",
     "iopub.status.busy": "2024-04-01T16:51:43.036271Z",
     "iopub.status.idle": "2024-04-01T16:51:44.593898Z",
     "shell.execute_reply": "2024-04-01T16:51:44.592451Z"
    },
    "papermill": {
     "duration": 1.576061,
     "end_time": "2024-04-01T16:51:44.597440",
     "exception": false,
     "start_time": "2024-04-01T16:51:43.021379",
     "status": "completed"
    },
    "tags": []
   },
   "outputs": [],
   "source": [
    "from sklearn.model_selection import train_test_split\n",
    "#below we have our features in X and the outcomes in y, this will be split into\n",
    "# training and validation data\n",
    "X = games[['TEAM_ID_home', 'PTS_home', 'FG_PCT_home','FT_PCT_home', 'AST_home', 'REB_home']].copy()\n",
    "y = games['HOME_TEAM_WINS'].copy()\n",
    "\n",
    "X_train_raw, X_val_raw, y_train, y_val = train_test_split(X, y, test_size=0.20, random_state=42)"
   ]
  },
  {
   "cell_type": "code",
   "execution_count": 13,
   "id": "7ae3efe0",
   "metadata": {
    "execution": {
     "iopub.execute_input": "2024-04-01T16:51:44.626924Z",
     "iopub.status.busy": "2024-04-01T16:51:44.625996Z",
     "iopub.status.idle": "2024-04-01T16:51:44.650766Z",
     "shell.execute_reply": "2024-04-01T16:51:44.649570Z"
    },
    "papermill": {
     "duration": 0.042268,
     "end_time": "2024-04-01T16:51:44.653315",
     "exception": false,
     "start_time": "2024-04-01T16:51:44.611047",
     "status": "completed"
    },
    "tags": []
   },
   "outputs": [
    {
     "name": "stdout",
     "output_type": "stream",
     "text": [
      "X_train.shape = (18566, 6)\n"
     ]
    },
    {
     "data": {
      "text/plain": [
       "pandas.core.frame.DataFrame"
      ]
     },
     "execution_count": 13,
     "metadata": {},
     "output_type": "execute_result"
    }
   ],
   "source": [
    "from sklearn.feature_extraction.text import TfidfVectorizer\n",
    "# below our data is fit into vectors which is the actual data that our ML model\n",
    "# can use\n",
    "#tfidf_vectorizer = TfidfVectorizer()\n",
    "#X_train = tfidf_vectorizer.fit_transform(X_train_raw).toarray()\n",
    "\n",
    "print(f\"X_train.shape = {X_train_raw.shape}\")\n",
    "type(X_train_raw)"
   ]
  },
  {
   "cell_type": "code",
   "execution_count": 14,
   "id": "f2b9967b",
   "metadata": {
    "execution": {
     "iopub.execute_input": "2024-04-01T16:51:44.683370Z",
     "iopub.status.busy": "2024-04-01T16:51:44.682478Z",
     "iopub.status.idle": "2024-04-01T16:51:48.381885Z",
     "shell.execute_reply": "2024-04-01T16:51:48.380589Z"
    },
    "papermill": {
     "duration": 3.717796,
     "end_time": "2024-04-01T16:51:48.384665",
     "exception": false,
     "start_time": "2024-04-01T16:51:44.666869",
     "status": "completed"
    },
    "tags": []
   },
   "outputs": [
    {
     "name": "stdout",
     "output_type": "stream",
     "text": [
      "accuracy (on y_train): 0.9999\n"
     ]
    },
    {
     "data": {
      "image/png": "[encoded data removed]",
      "text/plain": [
       "<Figure size 640x480 with 2 Axes>"
      ]
     },
     "metadata": {},
     "output_type": "display_data"
    }
   ],
   "source": [
    "from sklearn.ensemble import RandomForestClassifier\n",
    "from sklearn.metrics import confusion_matrix, ConfusionMatrixDisplay, accuracy_score\n",
    "\n",
    "#Initilazation of the RandomForestClassifier ML model and fitting of the data to the model\n",
    "model = RandomForestClassifier()\n",
    "model = model.fit(X_train_raw, y_train)\n",
    "\n",
    "#Predictions the model has made\n",
    "predictions_train = model.predict(X_train_raw)\n",
    "\n",
    "#confusion matrix to show the accuracy of the model on the training data\n",
    "#note: the model has not yet been validated\n",
    "disp = ConfusionMatrixDisplay(confusion_matrix(y_train, predictions_train), display_labels=['0', '1'])\n",
    "disp.plot()\n",
    "print(f\"accuracy (on y_train): {accuracy_score(y_train, predictions_train):.4f}\")"
   ]
  },
  {
   "cell_type": "markdown",
   "id": "f638615a",
   "metadata": {
    "papermill": {
     "duration": 0.014331,
     "end_time": "2024-04-01T16:51:48.413109",
     "exception": false,
     "start_time": "2024-04-01T16:51:48.398778",
     "status": "completed"
    },
    "tags": []
   },
   "source": [
    "# Results of training dummy model\n",
    "\n",
    "As shown above this model is just guessing, the accuracy score is not a true representation of any game being played, but for the purposes of setting up this is fine, we will go back and adjust things so that we can get actual predictions. This is likely because every team has a roughly 60% chance of winning therefor the model simply guesses that the team put in will win. Though this is just the training because it only guessed wins we can assume that this trend will continue in the validation data as well. As such we should see a similar distribution of predictions.\n",
    "\n",
    "# Interesting observation\n",
    "\n",
    "Many professional ML models in the same space are roughly 70% accurate. It is possible that a significant percentage of this may be from home court advantage, though certainly not the 59% above. As features are added we will need to see how much the data strays from the original test and validations."
   ]
  },
  {
   "cell_type": "code",
   "execution_count": 15,
   "id": "1bde05ad",
   "metadata": {
    "execution": {
     "iopub.execute_input": "2024-04-01T16:51:48.443980Z",
     "iopub.status.busy": "2024-04-01T16:51:48.443479Z",
     "iopub.status.idle": "2024-04-01T16:51:48.451851Z",
     "shell.execute_reply": "2024-04-01T16:51:48.450552Z"
    },
    "papermill": {
     "duration": 0.027994,
     "end_time": "2024-04-01T16:51:48.455594",
     "exception": false,
     "start_time": "2024-04-01T16:51:48.427600",
     "status": "completed"
    },
    "tags": []
   },
   "outputs": [
    {
     "name": "stdout",
     "output_type": "stream",
     "text": [
      "X_val.shape = (4642, 6)\n"
     ]
    },
    {
     "data": {
      "text/plain": [
       "pandas.core.frame.DataFrame"
      ]
     },
     "execution_count": 15,
     "metadata": {},
     "output_type": "execute_result"
    }
   ],
   "source": [
    "#vectorize validation data\n",
    "#X_val = tfidf_vectorizer.transform(X_val_raw).toarray()\n",
    "print(f\"X_val.shape = {X_val_raw.shape}\")\n",
    "type(X_val_raw)"
   ]
  },
  {
   "cell_type": "code",
   "execution_count": 16,
   "id": "b257fc0a",
   "metadata": {
    "execution": {
     "iopub.execute_input": "2024-04-01T16:51:48.486366Z",
     "iopub.status.busy": "2024-04-01T16:51:48.485926Z",
     "iopub.status.idle": "2024-04-01T16:51:48.905438Z",
     "shell.execute_reply": "2024-04-01T16:51:48.904205Z"
    },
    "papermill": {
     "duration": 0.438397,
     "end_time": "2024-04-01T16:51:48.908425",
     "exception": false,
     "start_time": "2024-04-01T16:51:48.470028",
     "status": "completed"
    },
    "tags": []
   },
   "outputs": [
    {
     "name": "stdout",
     "output_type": "stream",
     "text": [
      "accuracy (on y_val): 0.7421\n"
     ]
    },
    {
     "data": {
      "image/png": "[encoded data removed]",
      "text/plain": [
       "<Figure size 640x480 with 2 Axes>"
      ]
     },
     "metadata": {},
     "output_type": "display_data"
    }
   ],
   "source": [
    "\n",
    "#Validate the model\n",
    "predictions_val = model.predict(X_val_raw)\n",
    "disp = ConfusionMatrixDisplay(confusion_matrix(y_val, predictions_val), display_labels=['0', '1'])\n",
    "disp.plot()\n",
    "print(f\"accuracy (on y_val): {accuracy_score(y_val, predictions_val):.4f}\")"
   ]
  },
  {
   "cell_type": "markdown",
   "id": "e66e0155",
   "metadata": {
    "papermill": {
     "duration": 0.014536,
     "end_time": "2024-04-01T16:51:48.938052",
     "exception": false,
     "start_time": "2024-04-01T16:51:48.923516",
     "status": "completed"
    },
    "tags": []
   },
   "source": [
    "# Results of validation\n",
    "\n",
    "The results of the validation are exactly what is expected, and that is only guessing that the outcomes of the game will be a victory for the home team. This is once again entirely expected and ensures that we know what is occuring and why. Again this data is useless for a true final model."
   ]
  },
  {
   "cell_type": "code",
   "execution_count": 17,
   "id": "cfd06269",
   "metadata": {
    "execution": {
     "iopub.execute_input": "2024-04-01T16:51:48.971068Z",
     "iopub.status.busy": "2024-04-01T16:51:48.970396Z",
     "iopub.status.idle": "2024-04-01T16:51:48.983883Z",
     "shell.execute_reply": "2024-04-01T16:51:48.982298Z"
    },
    "papermill": {
     "duration": 0.032949,
     "end_time": "2024-04-01T16:51:48.986677",
     "exception": false,
     "start_time": "2024-04-01T16:51:48.953728",
     "status": "completed"
    },
    "tags": []
   },
   "outputs": [],
   "source": [
    "#create test data, this will output the results into another file\n",
    "df_test = games.loc[games['GAME_DATE_EST'] > '2019-10-01'].reset_index(drop=True)"
   ]
  },
  {
   "cell_type": "code",
   "execution_count": 18,
   "id": "1d9070c0",
   "metadata": {
    "execution": {
     "iopub.execute_input": "2024-04-01T16:51:49.019609Z",
     "iopub.status.busy": "2024-04-01T16:51:49.018883Z",
     "iopub.status.idle": "2024-04-01T16:51:49.029957Z",
     "shell.execute_reply": "2024-04-01T16:51:49.028353Z"
    },
    "papermill": {
     "duration": 0.030436,
     "end_time": "2024-04-01T16:51:49.032681",
     "exception": false,
     "start_time": "2024-04-01T16:51:49.002245",
     "status": "completed"
    },
    "tags": []
   },
   "outputs": [
    {
     "name": "stdout",
     "output_type": "stream",
     "text": [
      "X_test.shape = (1077, 6)\n"
     ]
    },
    {
     "data": {
      "text/plain": [
       "pandas.core.frame.DataFrame"
      ]
     },
     "execution_count": 18,
     "metadata": {},
     "output_type": "execute_result"
    }
   ],
   "source": [
    "#vectorize the test data into something that the trained ML model can use\n",
    "X_test = df_test[['TEAM_ID_home', 'PTS_home', 'FG_PCT_home','FT_PCT_home','AST_home', 'REB_home']]\n",
    "print(f\"X_test.shape = {X_test.shape}\")\n",
    "type(X_test)"
   ]
  },
  {
   "cell_type": "code",
   "execution_count": 19,
   "id": "6b61197a",
   "metadata": {
    "execution": {
     "iopub.execute_input": "2024-04-01T16:51:49.065370Z",
     "iopub.status.busy": "2024-04-01T16:51:49.064442Z",
     "iopub.status.idle": "2024-04-01T16:51:50.492723Z",
     "shell.execute_reply": "2024-04-01T16:51:50.491447Z"
    },
    "papermill": {
     "duration": 1.447527,
     "end_time": "2024-04-01T16:51:50.495464",
     "exception": false,
     "start_time": "2024-04-01T16:51:49.047937",
     "status": "completed"
    },
    "tags": []
   },
   "outputs": [
    {
     "data": {
      "text/plain": [
       "array([1, 0, 0, 0, 1, 1, 1, 0, 1, 0])"
      ]
     },
     "execution_count": 19,
     "metadata": {},
     "output_type": "execute_result"
    }
   ],
   "source": [
    "\n",
    "\n",
    "# refit the model with the best hyperparameter value we found\n",
    "model = RandomForestClassifier(max_leaf_nodes = 34)\n",
    "model = model.fit(X_train_raw, y_train)\n",
    "\n",
    "# this make predictions for the test set\n",
    "predictions_test = model.predict(X_test)\n",
    "predictions_test[:10]\n",
    "\n"
   ]
  },
  {
   "cell_type": "code",
   "execution_count": 20,
   "id": "c45cc70a",
   "metadata": {
    "execution": {
     "iopub.execute_input": "2024-04-01T16:51:50.528666Z",
     "iopub.status.busy": "2024-04-01T16:51:50.528160Z",
     "iopub.status.idle": "2024-04-01T16:51:50.567913Z",
     "shell.execute_reply": "2024-04-01T16:51:50.566740Z"
    },
    "papermill": {
     "duration": 0.059746,
     "end_time": "2024-04-01T16:51:50.570832",
     "exception": false,
     "start_time": "2024-04-01T16:51:50.511086",
     "status": "completed"
    },
    "tags": []
   },
   "outputs": [
    {
     "data": {
      "text/html": [
       "<div>\n",
       "<style scoped>\n",
       "    .dataframe tbody tr th:only-of-type {\n",
       "        vertical-align: middle;\n",
       "    }\n",
       "\n",
       "    .dataframe tbody tr th {\n",
       "        vertical-align: top;\n",
       "    }\n",
       "\n",
       "    .dataframe thead th {\n",
       "        text-align: right;\n",
       "    }\n",
       "</style>\n",
       "<table border=\"1\" class=\"dataframe\">\n",
       "  <thead>\n",
       "    <tr style=\"text-align: right;\">\n",
       "      <th></th>\n",
       "      <th>GAME_DATE_EST</th>\n",
       "      <th>GAME_ID</th>\n",
       "      <th>GAME_STATUS_TEXT</th>\n",
       "      <th>HOME_TEAM_ID</th>\n",
       "      <th>VISITOR_TEAM_ID</th>\n",
       "      <th>SEASON</th>\n",
       "      <th>TEAM_ID_home</th>\n",
       "      <th>PTS_home</th>\n",
       "      <th>FG_PCT_home</th>\n",
       "      <th>FT_PCT_home</th>\n",
       "      <th>...</th>\n",
       "      <th>REB_home</th>\n",
       "      <th>TEAM_ID_away</th>\n",
       "      <th>PTS_away</th>\n",
       "      <th>FG_PCT_away</th>\n",
       "      <th>FT_PCT_away</th>\n",
       "      <th>FG3_PCT_away</th>\n",
       "      <th>AST_away</th>\n",
       "      <th>REB_away</th>\n",
       "      <th>HOME_TEAM_WINS</th>\n",
       "      <th>predictions</th>\n",
       "    </tr>\n",
       "  </thead>\n",
       "  <tbody>\n",
       "    <tr>\n",
       "      <th>0</th>\n",
       "      <td>2019-10-04</td>\n",
       "      <td>11900003</td>\n",
       "      <td>Final</td>\n",
       "      <td>Bucks</td>\n",
       "      <td>Heat</td>\n",
       "      <td>2019</td>\n",
       "      <td>1610612758</td>\n",
       "      <td>131.0</td>\n",
       "      <td>0.494</td>\n",
       "      <td>0.778</td>\n",
       "      <td>...</td>\n",
       "      <td>30.0</td>\n",
       "      <td>1610612754</td>\n",
       "      <td>132.0</td>\n",
       "      <td>0.516</td>\n",
       "      <td>0.788</td>\n",
       "      <td>0.370</td>\n",
       "      <td>26.0</td>\n",
       "      <td>47.0</td>\n",
       "      <td>0</td>\n",
       "      <td>1</td>\n",
       "    </tr>\n",
       "    <tr>\n",
       "      <th>1</th>\n",
       "      <td>2019-10-04</td>\n",
       "      <td>11900002</td>\n",
       "      <td>Final</td>\n",
       "      <td>Thunder</td>\n",
       "      <td>Warriors</td>\n",
       "      <td>2019</td>\n",
       "      <td>1610612746</td>\n",
       "      <td>96.0</td>\n",
       "      <td>0.384</td>\n",
       "      <td>0.600</td>\n",
       "      <td>...</td>\n",
       "      <td>49.0</td>\n",
       "      <td>1610612745</td>\n",
       "      <td>109.0</td>\n",
       "      <td>0.375</td>\n",
       "      <td>0.800</td>\n",
       "      <td>0.229</td>\n",
       "      <td>21.0</td>\n",
       "      <td>52.0</td>\n",
       "      <td>0</td>\n",
       "      <td>0</td>\n",
       "    </tr>\n",
       "    <tr>\n",
       "      <th>2</th>\n",
       "      <td>2019-10-05</td>\n",
       "      <td>11900006</td>\n",
       "      <td>Final</td>\n",
       "      <td>Timberwolves</td>\n",
       "      <td>Heat</td>\n",
       "      <td>2019</td>\n",
       "      <td>1610612744</td>\n",
       "      <td>101.0</td>\n",
       "      <td>0.393</td>\n",
       "      <td>0.769</td>\n",
       "      <td>...</td>\n",
       "      <td>47.0</td>\n",
       "      <td>1610612747</td>\n",
       "      <td>123.0</td>\n",
       "      <td>0.475</td>\n",
       "      <td>0.633</td>\n",
       "      <td>0.303</td>\n",
       "      <td>32.0</td>\n",
       "      <td>58.0</td>\n",
       "      <td>0</td>\n",
       "      <td>0</td>\n",
       "    </tr>\n",
       "    <tr>\n",
       "      <th>3</th>\n",
       "      <td>2019-10-05</td>\n",
       "      <td>11900007</td>\n",
       "      <td>Final</td>\n",
       "      <td>Mavericks</td>\n",
       "      <td>Trail Blazers</td>\n",
       "      <td>2019</td>\n",
       "      <td>1610612759</td>\n",
       "      <td>89.0</td>\n",
       "      <td>0.388</td>\n",
       "      <td>0.750</td>\n",
       "      <td>...</td>\n",
       "      <td>40.0</td>\n",
       "      <td>1610612753</td>\n",
       "      <td>125.0</td>\n",
       "      <td>0.526</td>\n",
       "      <td>0.714</td>\n",
       "      <td>0.361</td>\n",
       "      <td>29.0</td>\n",
       "      <td>47.0</td>\n",
       "      <td>0</td>\n",
       "      <td>0</td>\n",
       "    </tr>\n",
       "    <tr>\n",
       "      <th>4</th>\n",
       "      <td>2019-10-05</td>\n",
       "      <td>11900005</td>\n",
       "      <td>Final</td>\n",
       "      <td>Grizzlies</td>\n",
       "      <td>Nets</td>\n",
       "      <td>2019</td>\n",
       "      <td>1610612754</td>\n",
       "      <td>130.0</td>\n",
       "      <td>0.521</td>\n",
       "      <td>0.944</td>\n",
       "      <td>...</td>\n",
       "      <td>51.0</td>\n",
       "      <td>1610612758</td>\n",
       "      <td>106.0</td>\n",
       "      <td>0.378</td>\n",
       "      <td>0.780</td>\n",
       "      <td>0.353</td>\n",
       "      <td>24.0</td>\n",
       "      <td>35.0</td>\n",
       "      <td>1</td>\n",
       "      <td>1</td>\n",
       "    </tr>\n",
       "    <tr>\n",
       "      <th>5</th>\n",
       "      <td>2019-10-06</td>\n",
       "      <td>11900010</td>\n",
       "      <td>Final</td>\n",
       "      <td>Lakers</td>\n",
       "      <td>Hornets</td>\n",
       "      <td>2019</td>\n",
       "      <td>1610612738</td>\n",
       "      <td>107.0</td>\n",
       "      <td>0.460</td>\n",
       "      <td>0.708</td>\n",
       "      <td>...</td>\n",
       "      <td>41.0</td>\n",
       "      <td>1610612766</td>\n",
       "      <td>106.0</td>\n",
       "      <td>0.444</td>\n",
       "      <td>0.800</td>\n",
       "      <td>0.368</td>\n",
       "      <td>29.0</td>\n",
       "      <td>48.0</td>\n",
       "      <td>1</td>\n",
       "      <td>1</td>\n",
       "    </tr>\n",
       "    <tr>\n",
       "      <th>6</th>\n",
       "      <td>2019-10-07</td>\n",
       "      <td>11900014</td>\n",
       "      <td>Final</td>\n",
       "      <td>Pistons</td>\n",
       "      <td>Pacers</td>\n",
       "      <td>2019</td>\n",
       "      <td>1610612764</td>\n",
       "      <td>99.0</td>\n",
       "      <td>0.351</td>\n",
       "      <td>0.792</td>\n",
       "      <td>...</td>\n",
       "      <td>54.0</td>\n",
       "      <td>1610612752</td>\n",
       "      <td>104.0</td>\n",
       "      <td>0.418</td>\n",
       "      <td>0.684</td>\n",
       "      <td>0.429</td>\n",
       "      <td>25.0</td>\n",
       "      <td>55.0</td>\n",
       "      <td>0</td>\n",
       "      <td>1</td>\n",
       "    </tr>\n",
       "    <tr>\n",
       "      <th>7</th>\n",
       "      <td>2019-10-07</td>\n",
       "      <td>11900016</td>\n",
       "      <td>Final</td>\n",
       "      <td>Hawks</td>\n",
       "      <td>76ers</td>\n",
       "      <td>2019</td>\n",
       "      <td>1610612741</td>\n",
       "      <td>112.0</td>\n",
       "      <td>0.378</td>\n",
       "      <td>0.684</td>\n",
       "      <td>...</td>\n",
       "      <td>45.0</td>\n",
       "      <td>1610612749</td>\n",
       "      <td>122.0</td>\n",
       "      <td>0.477</td>\n",
       "      <td>0.840</td>\n",
       "      <td>0.370</td>\n",
       "      <td>24.0</td>\n",
       "      <td>59.0</td>\n",
       "      <td>0</td>\n",
       "      <td>0</td>\n",
       "    </tr>\n",
       "    <tr>\n",
       "      <th>8</th>\n",
       "      <td>2019-10-07</td>\n",
       "      <td>11900015</td>\n",
       "      <td>Final</td>\n",
       "      <td>Raptors</td>\n",
       "      <td>Magic</td>\n",
       "      <td>2019</td>\n",
       "      <td>1610612737</td>\n",
       "      <td>109.0</td>\n",
       "      <td>0.460</td>\n",
       "      <td>0.625</td>\n",
       "      <td>...</td>\n",
       "      <td>44.0</td>\n",
       "      <td>1610612740</td>\n",
       "      <td>133.0</td>\n",
       "      <td>0.455</td>\n",
       "      <td>0.828</td>\n",
       "      <td>0.378</td>\n",
       "      <td>25.0</td>\n",
       "      <td>54.0</td>\n",
       "      <td>0</td>\n",
       "      <td>1</td>\n",
       "    </tr>\n",
       "    <tr>\n",
       "      <th>9</th>\n",
       "      <td>2019-10-07</td>\n",
       "      <td>11900013</td>\n",
       "      <td>Final</td>\n",
       "      <td>Rockets</td>\n",
       "      <td>Thunder</td>\n",
       "      <td>2019</td>\n",
       "      <td>1610612765</td>\n",
       "      <td>91.0</td>\n",
       "      <td>0.337</td>\n",
       "      <td>0.704</td>\n",
       "      <td>...</td>\n",
       "      <td>53.0</td>\n",
       "      <td>1610612753</td>\n",
       "      <td>115.0</td>\n",
       "      <td>0.455</td>\n",
       "      <td>0.667</td>\n",
       "      <td>0.429</td>\n",
       "      <td>32.0</td>\n",
       "      <td>57.0</td>\n",
       "      <td>0</td>\n",
       "      <td>0</td>\n",
       "    </tr>\n",
       "  </tbody>\n",
       "</table>\n",
       "<p>10 rows × 22 columns</p>\n",
       "</div>"
      ],
      "text/plain": [
       "  GAME_DATE_EST   GAME_ID GAME_STATUS_TEXT  HOME_TEAM_ID VISITOR_TEAM_ID  \\\n",
       "0    2019-10-04  11900003            Final         Bucks            Heat   \n",
       "1    2019-10-04  11900002            Final       Thunder        Warriors   \n",
       "2    2019-10-05  11900006            Final  Timberwolves            Heat   \n",
       "3    2019-10-05  11900007            Final     Mavericks   Trail Blazers   \n",
       "4    2019-10-05  11900005            Final     Grizzlies            Nets   \n",
       "5    2019-10-06  11900010            Final        Lakers         Hornets   \n",
       "6    2019-10-07  11900014            Final       Pistons          Pacers   \n",
       "7    2019-10-07  11900016            Final         Hawks           76ers   \n",
       "8    2019-10-07  11900015            Final       Raptors           Magic   \n",
       "9    2019-10-07  11900013            Final       Rockets         Thunder   \n",
       "\n",
       "   SEASON  TEAM_ID_home  PTS_home  FG_PCT_home  FT_PCT_home  ...  REB_home  \\\n",
       "0    2019    1610612758     131.0        0.494        0.778  ...      30.0   \n",
       "1    2019    1610612746      96.0        0.384        0.600  ...      49.0   \n",
       "2    2019    1610612744     101.0        0.393        0.769  ...      47.0   \n",
       "3    2019    1610612759      89.0        0.388        0.750  ...      40.0   \n",
       "4    2019    1610612754     130.0        0.521        0.944  ...      51.0   \n",
       "5    2019    1610612738     107.0        0.460        0.708  ...      41.0   \n",
       "6    2019    1610612764      99.0        0.351        0.792  ...      54.0   \n",
       "7    2019    1610612741     112.0        0.378        0.684  ...      45.0   \n",
       "8    2019    1610612737     109.0        0.460        0.625  ...      44.0   \n",
       "9    2019    1610612765      91.0        0.337        0.704  ...      53.0   \n",
       "\n",
       "   TEAM_ID_away  PTS_away  FG_PCT_away  FT_PCT_away  FG3_PCT_away  AST_away  \\\n",
       "0    1610612754     132.0        0.516        0.788         0.370      26.0   \n",
       "1    1610612745     109.0        0.375        0.800         0.229      21.0   \n",
       "2    1610612747     123.0        0.475        0.633         0.303      32.0   \n",
       "3    1610612753     125.0        0.526        0.714         0.361      29.0   \n",
       "4    1610612758     106.0        0.378        0.780         0.353      24.0   \n",
       "5    1610612766     106.0        0.444        0.800         0.368      29.0   \n",
       "6    1610612752     104.0        0.418        0.684         0.429      25.0   \n",
       "7    1610612749     122.0        0.477        0.840         0.370      24.0   \n",
       "8    1610612740     133.0        0.455        0.828         0.378      25.0   \n",
       "9    1610612753     115.0        0.455        0.667         0.429      32.0   \n",
       "\n",
       "   REB_away  HOME_TEAM_WINS  predictions  \n",
       "0      47.0               0            1  \n",
       "1      52.0               0            0  \n",
       "2      58.0               0            0  \n",
       "3      47.0               0            0  \n",
       "4      35.0               1            1  \n",
       "5      48.0               1            1  \n",
       "6      55.0               0            1  \n",
       "7      59.0               0            0  \n",
       "8      54.0               0            1  \n",
       "9      57.0               0            0  \n",
       "\n",
       "[10 rows x 22 columns]"
      ]
     },
     "execution_count": 20,
     "metadata": {},
     "output_type": "execute_result"
    }
   ],
   "source": [
    "df_test['predictions'] = predictions_test\n",
    "pd.set_option(\"display.max_colwidth\", 240)\n",
    "df_test.head(n=10)"
   ]
  },
  {
   "cell_type": "code",
   "execution_count": 21,
   "id": "79838673",
   "metadata": {
    "execution": {
     "iopub.execute_input": "2024-04-01T16:51:50.606475Z",
     "iopub.status.busy": "2024-04-01T16:51:50.606037Z",
     "iopub.status.idle": "2024-04-01T16:51:50.619273Z",
     "shell.execute_reply": "2024-04-01T16:51:50.618065Z"
    },
    "papermill": {
     "duration": 0.035168,
     "end_time": "2024-04-01T16:51:50.622079",
     "exception": false,
     "start_time": "2024-04-01T16:51:50.586911",
     "status": "completed"
    },
    "tags": []
   },
   "outputs": [
    {
     "data": {
      "text/html": [
       "<div>\n",
       "<style scoped>\n",
       "    .dataframe tbody tr th:only-of-type {\n",
       "        vertical-align: middle;\n",
       "    }\n",
       "\n",
       "    .dataframe tbody tr th {\n",
       "        vertical-align: top;\n",
       "    }\n",
       "\n",
       "    .dataframe thead th {\n",
       "        text-align: right;\n",
       "    }\n",
       "</style>\n",
       "<table border=\"1\" class=\"dataframe\">\n",
       "  <thead>\n",
       "    <tr style=\"text-align: right;\">\n",
       "      <th></th>\n",
       "      <th>HOME_TEAM_ID</th>\n",
       "      <th>predictions</th>\n",
       "    </tr>\n",
       "  </thead>\n",
       "  <tbody>\n",
       "    <tr>\n",
       "      <th>0</th>\n",
       "      <td>Bucks</td>\n",
       "      <td>1</td>\n",
       "    </tr>\n",
       "    <tr>\n",
       "      <th>1</th>\n",
       "      <td>Thunder</td>\n",
       "      <td>0</td>\n",
       "    </tr>\n",
       "    <tr>\n",
       "      <th>2</th>\n",
       "      <td>Timberwolves</td>\n",
       "      <td>0</td>\n",
       "    </tr>\n",
       "    <tr>\n",
       "      <th>3</th>\n",
       "      <td>Mavericks</td>\n",
       "      <td>0</td>\n",
       "    </tr>\n",
       "    <tr>\n",
       "      <th>4</th>\n",
       "      <td>Grizzlies</td>\n",
       "      <td>1</td>\n",
       "    </tr>\n",
       "  </tbody>\n",
       "</table>\n",
       "</div>"
      ],
      "text/plain": [
       "   HOME_TEAM_ID  predictions\n",
       "0         Bucks            1\n",
       "1       Thunder            0\n",
       "2  Timberwolves            0\n",
       "3     Mavericks            0\n",
       "4     Grizzlies            1"
      ]
     },
     "execution_count": 21,
     "metadata": {},
     "output_type": "execute_result"
    }
   ],
   "source": [
    "df_submission = df_test[['HOME_TEAM_ID','predictions']]\n",
    "df_submission.columns = ['HOME_TEAM_ID', 'predictions']\n",
    "df_submission.head()"
   ]
  },
  {
   "cell_type": "code",
   "execution_count": 22,
   "id": "46b3b84d",
   "metadata": {
    "execution": {
     "iopub.execute_input": "2024-04-01T16:51:50.657120Z",
     "iopub.status.busy": "2024-04-01T16:51:50.656613Z",
     "iopub.status.idle": "2024-04-01T16:51:50.665948Z",
     "shell.execute_reply": "2024-04-01T16:51:50.665018Z"
    },
    "papermill": {
     "duration": 0.030263,
     "end_time": "2024-04-01T16:51:50.668551",
     "exception": false,
     "start_time": "2024-04-01T16:51:50.638288",
     "status": "completed"
    },
    "tags": []
   },
   "outputs": [],
   "source": [
    "df_submission.to_csv('dummyResults.csv', index=False)"
   ]
  }
 ],
 "metadata": {
  "kaggle": {
   "accelerator": "none",
   "dataSources": [
    {
     "datasetId": 458874,
     "sourceId": 4761991,
     "sourceType": "datasetVersion"
    }
   ],
   "dockerImageVersionId": 30646,
   "isGpuEnabled": false,
   "isInternetEnabled": true,
   "language": "python",
   "sourceType": "notebook"
  },
  "kernelspec": {
   "display_name": "Python 3",
   "language": "python",
   "name": "python3"
  },
  "language_info": {
   "codemirror_mode": {
    "name": "ipython",
    "version": 3
   },
   "file_extension": ".py",
   "mimetype": "text/x-python",
   "name": "python",
   "nbconvert_exporter": "python",
   "pygments_lexer": "ipython3",
   "version": "3.10.13"
  },
  "papermill": {
   "default_parameters": {},
   "duration": 20.446462,
   "end_time": "2024-04-01T16:51:51.609041",
   "environment_variables": {},
   "exception": null,
   "input_path": "__notebook__.ipynb",
   "output_path": "__notebook__.ipynb",
   "parameters": {},
   "start_time": "2024-04-01T16:51:31.162579",
   "version": "2.5.0"
  }
 },
 "nbformat": 4,
 "nbformat_minor": 5
}
